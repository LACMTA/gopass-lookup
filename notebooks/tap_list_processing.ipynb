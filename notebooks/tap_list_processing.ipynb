{
 "cells": [
  {
   "cell_type": "markdown",
   "metadata": {},
   "source": [
    "# Jupyter Notebook for converting the Go Pass Data\n"
   ]
  },
  {
   "cell_type": "markdown",
   "metadata": {},
   "source": [
    "## 1.0 Load in modules\n",
    "\n",
    "We are using pandas and the numpy libraries to read and process the data.\n",
    "\n",
    "Then we will use the `rapidfuzz` library to caclulate close matches to the strings so that we can join the information.\n",
    "\n",
    "Using other popular fuzzy-string matching libraries like `fuzzball` takes over 3 hours to process as the alogrithim used takes the number of records to the `n`th power!! (i.e. comparing 1000 records processes 1000^1000!!!) `rapidfuzz` has a better algorithm that trims this town to 3 - 4 minutes!\n"
   ]
  },
  {
   "cell_type": "code",
   "execution_count": null,
   "metadata": {},
   "outputs": [],
   "source": [
    "import pandas as pd\n",
    "import numpy as np\n",
    "from datetime import datetime\n",
    "from rapidfuzz import process, utils as fuzz_utils\n",
    "\n",
    "GOOGLE_SHEET_URL = 'https://docs.google.com/spreadsheets/d/e/2PACX-1vSWbwrsqF-c---4lfw0LZWymd-f8sy8sLYkXgzh0OyeGATWwrvv7V1Mq5BcApn7F_-WYKP1KXy5shKw/pub?gid=376323488&single=true&output=csv'"
   ]
  },
  {
   "cell_type": "markdown",
   "metadata": {},
   "source": [
    "## 2.0 Format Go Pass Data\n",
    "\n",
    "We will be extracting the following fields:\n",
    "\n",
    "- District\n",
    "- School\n",
    "- Address\n",
    "- City\n",
    "- Participating\n",
    "\n",
    "We create a simplfied field called `name` based on the `street address`, `school name`, and `district`. This field is formatted to be all lowercase with spaces replaced with `-` to make matching easier."
   ]
  },
  {
   "cell_type": "code",
   "execution_count": null,
   "metadata": {},
   "outputs": [],
   "source": [
    "go_pass_schools = pd.read_csv(GOOGLE_SHEET_URL,\n",
    "    usecols={'district_x','original_name_x','address_x','city_x','phone','email'})\n",
    "go_pass_schools.columns = [\"district\",\"name\",\"address\",\"city\",\"phone\",\"email\"]\n",
    "\n",
    "go_pass_schools = go_pass_schools.fillna('')\n",
    "go_pass_schools['original_name'] = go_pass_schools['name']\n",
    "simple_district = go_pass_schools['district'].str.lower().str.replace(\" \",\"-\").str.replace(\".\",\"\").str.replace('\"','')\n",
    "# go_pass_schools['name'] = go_pass_schools['name'].str.lower().str.replace(\" \",\"-\").str.replace(\".\",\"\").str.replace('\"','')+\"-\"+simple_district\n",
    "simple_address = go_pass_schools['address'].str.lower().str.replace(\" \",\"-\").str.replace(\".\",\"\").str.replace('\"','')\n",
    "simple_name = go_pass_schools['name'].str.lower().str.replace(\" \",\"-\").str.replace(\".\",\"\").str.replace('\"','')\n",
    "go_pass_schools.loc[(go_pass_schools['name'].str.len() > 1),'name'] = simple_address+\"-\"+simple_name+\"-\"+simple_district\n",
    "go_pass_schools\n"
   ]
  },
  {
   "cell_type": "markdown",
   "metadata": {},
   "source": [
    "### 2.1 Format California Schools data\n",
    "\n",
    "We create a simplfied field called `simple name` based on the `street address`, `school name`, and `district`. This field is formatted to be all lowercase with spaces replaced with `-` to make matching easier.\n",
    "\n",
    "#### Source for California schools data\n",
    "\n",
    "https://www.cde.ca.gov/SchoolDirectory/ExportSelect?simpleSearch=N&address=&city=&counties=&districts=&cdscode=&charter=&magnet=&name=&nps=&search=2&zip=&yearround=&status=1%2C2&types=&order=1&multilingual=&qsc=3549&qdc=3549\n",
    "\n",
    "August 2022\n"
   ]
  },
  {
   "cell_type": "code",
   "execution_count": null,
   "metadata": {},
   "outputs": [],
   "source": [
    "california_schools_data = \"../data/TapData.csv\"\n",
    "\n",
    "california_schools = pd.read_csv(california_schools_data)\n",
    "    # usecols={'school','district','street','city','state',\"zip\"})\n",
    "# california_schools.columns = [\"school\",\"district\",\"address\",\"city\",\"state\",\"zip\"]\n",
    "\n",
    "la_schools_df = california_schools.fillna('')\n",
    "# la_schools_df\n",
    "\n",
    "la_schools_df['original_name'] = la_schools_df['school']\n",
    "la_schools_df['name'] = la_schools_df['school'].replace({'\\([a-zA-Z\\s\\.\\-\\/]*\\(*[a-zA-Z\\s\\.\\-\\/]*\\)*[a-zA-Z\\s\\.\\-\\/]*\\)$'},'',regex=True)\n",
    "# la_schools_df.loc[la_schools_df['district'] == \"Los Angeles Unified\", 'district'] = \"LAUSD\"\n",
    "simple_district = la_schools_df['district'].str.lower().str.replace(\" \",\"-\").str.replace(\".\",\"\").str.replace('\"','')\n",
    "simple_address = la_schools_df['street'].str.lower().str.replace(\" \",\"-\").str.replace(\".\",\"\").str.replace('\"','')\n",
    "simple_name = la_schools_df['school'].str.lower().str.replace(\" \",\"-\").str.replace(\".\",\"\").str.replace('\"','')+\"-\"\n",
    "la_schools_df['simple_name'] = simple_address+\"-\"+simple_name+\"-\"+simple_district\n",
    "\n",
    "\n",
    "la_schools_df"
   ]
  },
  {
   "cell_type": "code",
   "execution_count": null,
   "metadata": {},
   "outputs": [],
   "source": [
    "# unique_schools = go_pass_schools.drop_duplicates(subset=['original_name'])\n",
    "# print(go_pass_schools.shape)\n",
    "# print(unique_schools.shape)\n",
    "\n",
    "# difference_in_dupes = go_pass_schools.shape[0] - unique_schools.shape[0]\n",
    "# # these are the number of records with the same names\n",
    "# print(\"Number of records with same names: \\n \"+str(difference_in_dupes))\n"
   ]
  },
  {
   "cell_type": "markdown",
   "metadata": {},
   "source": [
    "## 3.0 Joining the `Original dataset` to the `California dataset`\n",
    "\n",
    "Here we do a blanket `left` merge where the original records get data added to it.\n",
    "\n",
    "If we want to keep the California data, then we need to switch this merge type to `inner` or `right`.\n",
    "\n",
    "#### See the Pandas merge documentation for more information:\n",
    "\n",
    "https://pandas.pydata.org/pandas-docs/stable/reference/api/pandas.merge.html"
   ]
  },
  {
   "cell_type": "code",
   "execution_count": null,
   "metadata": {},
   "outputs": [],
   "source": [
    "def fuzzy_merge(baseFrame, compareFrame, baseKey, compareKey, threshold=86, limit=1, how='left'):\n",
    "    s_mapping = {x: fuzz_utils.default_process(x) for x in compareFrame[compareKey]}\n",
    "\n",
    "    m1 = baseFrame[baseKey].apply(lambda x: process.extract(\n",
    "      fuzz_utils.default_process(x), s_mapping, limit=limit, score_cutoff=threshold, processor=None\n",
    "    ))\n",
    "    baseFrame['Match'] = m1\n",
    "\n",
    "    m2 = baseFrame['Match'].apply(lambda x: ', '.join(i[2] for i in x))\n",
    "    baseFrame['name'] = m2.replace(\"\",np.nan)\n",
    "\n",
    "    # baseFrame['school'] = m2['school']\n",
    "    return baseFrame.merge(compareFrame, left_on='name', right_on=compareKey, how=how)\n",
    "\n",
    "merged_df = fuzzy_merge(go_pass_schools, la_schools_df, 'name', 'simple_name',how='left')\n",
    "# merged_df = fuzzy_merge(go_pass_schools, la_schools_df, 'original_name', 'name',how='left')\n",
    "# merged_df = fuzzy_merge(la_schools_df, go_pass_schools, 'name', 'original_name',how='right')\n",
    "merged_df\n"
   ]
  },
  {
   "cell_type": "markdown",
   "metadata": {},
   "source": [
    "## 4.0 Cleaning up of Merged Data\n",
    "\n",
    "The steps are as follows:\n",
    "1. Assign the full name the original name and the district\n",
    "   - Note: you can also use the California district names instead by uncommenting the `Altenative` line\n",
    "2. Process alternative method of naming where district names are only added if there are duplicates\n",
    "3. Set the final `phone` column to default to the original data's `telephone` column\n",
    "4. Get the match score from rapidfuzz"
   ]
  },
  {
   "cell_type": "code",
   "execution_count": null,
   "metadata": {},
   "outputs": [],
   "source": [
    "merged_df['rowid'].fillna(0, inplace=True)\n",
    "merged_df['rowid'] = merged_df['rowid'].astype('int64')"
   ]
  },
  {
   "cell_type": "code",
   "execution_count": null,
   "metadata": {},
   "outputs": [],
   "source": [
    "# 1. Default name processing\n",
    "# merged_df['full_name'] = merged_df['original_name_x'] + ' (' + merged_df['district_x'] + ')'\n",
    "merged_df.loc[merged_df['rowid'] == 0, 'school'] = merged_df['original_name_x'] + ' (' + merged_df['district_x'] + ')'\n",
    "# 1b. alternative approach: uncomment below to use the California district names instead\n",
    "# merged_df['full_name']  = merged_df['original_name_x'] + ' (' + merged_df['district_y'] + ')'\n",
    "\n",
    "# 2. Alternative school name field processing\n",
    "# Flag duplicated records\n",
    "merged_df['duped'] = merged_df.duplicated(['original_name_x'],keep=False)\n",
    "\n",
    "# `full_name_some` is the option where there are district names for only duplicated records.\n",
    "# merged_df.loc[merged_df['duped'] == False, 'full_name_some'] = merged_df['original_name_x']\n",
    "# merged_df.loc[merged_df['duped'] == True, 'full_name_some'] = merged_df['original_name_x'] + ' (' + merged_df['district_y'] + ')'\n",
    "\n",
    "# 3. Phone number processing\n",
    "# merged_df['phone'] = merged_df['telephone']\n",
    "\n",
    "# if there is less than 4 characters in that column then set it to the California's phone numbers i.e. 'default phone' column\n",
    "# merged_df.loc[merged_df['phone'].str.len() < 4, 'phone'] = merged_df['default_phone']\n",
    "\n",
    "# 4. Match score processing\n",
    "merged_df['score'] = merged_df['Match'].astype('string').str.split(\",\").str[1]\n",
    "\n",
    "merged_df"
   ]
  },
  {
   "cell_type": "markdown",
   "metadata": {},
   "source": [
    "## 5.0 Final Column Selection\n",
    "Here we select the final data columns for our outputs, with `_x` suffixes representing the original Metro dataset and `_y` suffixes representing the California schools dataset.\n",
    "\n",
    "- \"district_x\"\n",
    "- \"district_y\"\n",
    "- \"original_name_x\"\n",
    "- \"original_name_y\"\n",
    "- \"status\"\n",
    "- 'closed_date'\n",
    "- \"full_name\"\n",
    "- \"full_name_some\"\n",
    "- \"participating\"\n",
    "- \"address_x\"\n",
    "- \"address_y\"\n",
    "- \"city_x\"\n",
    "- \"city_y\"\n",
    "- 'address_y'\n",
    "- 'city_y'\n",
    "- \"score\"\n",
    "- \"duped\"\n",
    "- 'phone'\n",
    "- 'email'\n",
    "- 'website'\n",
    "- 'latitude'\n",
    "- 'longitude'\n",
    "- 'last_update'"
   ]
  },
  {
   "cell_type": "code",
   "execution_count": null,
   "metadata": {},
   "outputs": [],
   "source": [
    "# final_columns = {\n",
    "#     \"full_name\":\"school_name\",\n",
    "#     \"full_name_some\":\"school_name_with_some_districts_attached\"\n",
    "# }\n",
    "\n",
    "# final_df = merged_df[[\"oid\",\"district_x\",\"district_y\",\"original_name_x\",\"original_name_y\",\"status\",'closed_date',\n",
    "#        \"full_name\",\"full_name_some\",\"participating\",\"address_x\",\"address_y\",\"city_x\",\"city_y\",\"score\",\"duped\",'phone', 'email',\n",
    "#        'website', 'latitude', 'longitude', 'last_update']]\n",
    "final_df = merged_df\n",
    "\n",
    "# final_df[\"address\"] = final_df[\"address_x\"] \n",
    "\n",
    "\n",
    "# final_df.rename(inplace=True)\n",
    "# final_df.reset_index(inplace=True)\n",
    "# final_df.index.names = ['id']\n",
    "\n",
    "final_df"
   ]
  },
  {
   "cell_type": "code",
   "execution_count": null,
   "metadata": {},
   "outputs": [],
   "source": [
    "final_df.columns"
   ]
  },
  {
   "cell_type": "markdown",
   "metadata": {},
   "source": [
    "## 5.0 Final Output\n",
    "Using today's date and the csv file extension we will output the file to the data directory.\n",
    "\n",
    "We also split the data using `to_json` in pandas, more info here:\n",
    "\n",
    "https://pandas.pydata.org/pandas-docs/stable/reference/api/pandas.DataFrame.to_json.html"
   ]
  },
  {
   "cell_type": "code",
   "execution_count": null,
   "metadata": {},
   "outputs": [],
   "source": [
    "today = str(datetime.now().strftime(\"%Y-%m\"))\n",
    "outfile_extension = \".csv\"\n",
    "output_file_name = \"../data/tap_data_merged_with_metro_california_qc_data_\"+today+outfile_extension\n",
    "\n",
    "final_df.to_csv(output_file_name)\n",
    "\n",
    "#create JSON file oriented by records\n",
    "output_json = \"../src/data/schools.json\"\n",
    "json_file = final_df.to_json(orient='records',index=True) \n",
    "with open(output_json, 'w') as f:\n",
    "    f.write(json_file)"
   ]
  },
  {
   "cell_type": "code",
   "execution_count": null,
   "metadata": {},
   "outputs": [],
   "source": [
    "# Done!"
   ]
  }
 ],
 "metadata": {
  "kernelspec": {
   "display_name": "Python 3.9.5 ('metro')",
   "language": "python",
   "name": "python3"
  },
  "language_info": {
   "codemirror_mode": {
    "name": "ipython",
    "version": 3
   },
   "file_extension": ".py",
   "mimetype": "text/x-python",
   "name": "python",
   "nbconvert_exporter": "python",
   "pygments_lexer": "ipython3",
   "version": "3.9.5"
  },
  "orig_nbformat": 4,
  "vscode": {
   "interpreter": {
    "hash": "c263e3016fdbcc18f23c6f6a65675b5fd898a6e9c804caa5b7f1b343f9ad6c95"
   }
  }
 },
 "nbformat": 4,
 "nbformat_minor": 2
}
