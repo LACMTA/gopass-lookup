{
 "cells": [
  {
   "cell_type": "markdown",
   "metadata": {},
   "source": [
    "### 1.0 Import modules"
   ]
  },
  {
   "cell_type": "code",
   "execution_count": null,
   "metadata": {},
   "outputs": [],
   "source": [
    "import pandas as pd\n",
    "import numpy as np\n",
    "from datetime import datetime\n",
    "from rapidfuzz import process, utils as fuzz_utils\n",
    "GOOGLE_SHEET_MASTER_LIST_URL = 'https://docs.google.com/spreadsheets/d/e/2PACX-1vSWbwrsqF-c---4lfw0LZWymd-f8sy8sLYkXgzh0OyeGATWwrvv7V1Mq5BcApn7F_-WYKP1KXy5shKw/pub?gid=240503925&single=true&output=csv'\n"
   ]
  },
  {
   "cell_type": "markdown",
   "metadata": {},
   "source": [
    "### 1.1 Load the data into data frames\n"
   ]
  },
  {
   "cell_type": "code",
   "execution_count": null,
   "metadata": {},
   "outputs": [],
   "source": [
    "master_list_schools_df = pd.read_csv(GOOGLE_SHEET_MASTER_LIST_URL,usecols={'id','california_oid','phone','participating','rowid','school','district_y','address_y'})\n",
    "# master_list_schools_df.columns# master_list_schools_df = \n",
    "\n",
    "master_list_schools_df"
   ]
  },
  {
   "cell_type": "code",
   "execution_count": null,
   "metadata": {},
   "outputs": [],
   "source": [
    "california_schools_data = \"../data/CDESchoolDirectoryExportAugust2022.csv\"\n",
    "\n",
    "california_schools = pd.read_csv(california_schools_data,\n",
    "    usecols={'CDS Code','County','Status','District','School',\"Closed Date\",\"Website\",\"Latitude\",\"Longitude\",\"Last Update\",'Street Address','Street City',\"Phone\",\"Email\"},encoding='latin')\n",
    "california_schools.columns = [\"oid\",\"county\",\"district\",\"name\",\"status\",\"closed_date\",\"website\",\"latitude\",\"longitude\",\"last_update\",\"address\",\"city\",\"default_phone\",\"email\"]\n",
    "\n",
    "california_schools = california_schools.fillna('')\n",
    "la_schools_df = california_schools[california_schools[\"county\"] == \"Los Angeles\"]\n",
    "\n",
    "la_schools_df['original_name'] = la_schools_df['name']\n",
    "name = la_schools_df['name'].str.lower().str.replace(\"[[:punct:]]\",\"-\",regex=True).replace({'\\([a-zA-Z\\s\\.\\-\\/]*\\(*[a-zA-Z\\s\\.\\-\\/]*\\)*[a-zA-Z\\s\\.\\-\\/]*\\)$'},'',regex=True)\n",
    "\n",
    "la_schools_df.loc[la_schools_df['district'] == \"Los Angeles Unified\", 'district'] = \"LAUSD\"\n",
    "simple_district = la_schools_df['district'].str.lower().str.replace(\" \",\"-\").str.replace(\".\",\"\").str.replace('\"','')\n",
    "simple_address = la_schools_df['address'].str.lower().str.replace(\" \",\"-\").str.replace(\".\",\"\").str.replace('\"','')\n",
    "\n",
    "la_schools_df['simple_name'] = simple_address+\"-\"+name+\"-\"+simple_district\n",
    "la_schools_df['simple_name'].fillna('none',inplace=True)\n",
    "\n",
    "la_schools_df['oid_key'] = la_schools_df['oid'].astype(str).str.replace(\".0\",\"\")\n",
    "\n",
    "la_schools_df\n",
    "# master_list_subset_with_oid['oid_key'] = master_list_subset_with_oid['california_oid'].astype(str).str.replace(\".0\",\"\")\n"
   ]
  },
  {
   "cell_type": "markdown",
   "metadata": {},
   "source": [
    "### 2.0 Subset and join data with California IDs\n"
   ]
  },
  {
   "cell_type": "code",
   "execution_count": null,
   "metadata": {},
   "outputs": [],
   "source": [
    "# master_list_subset_no_oid\n",
    "master_list_subset_with_oid = master_list_schools_df[master_list_schools_df['california_oid'].notnull()]\n",
    "master_list_subset_with_oid\n",
    "master_list_subset_with_oid['oid_key'] = master_list_subset_with_oid['california_oid'].astype(str).str.replace(\".0\",\"\")\n",
    "master_list_subset_with_oid\n",
    "inner_join_master_list_with_schools = pd.merge(master_list_subset_with_oid, la_schools_df, left_on='oid_key', right_on='oid_key', how='inner')\n",
    "inner_join_master_list_with_schools"
   ]
  },
  {
   "cell_type": "code",
   "execution_count": null,
   "metadata": {},
   "outputs": [],
   "source": [
    "# inner_join_master_list_with_schools.loc[inner_join_master_list_with_schools['phone'].isnull(), 'participating'] \n",
    "inner_join_master_list_with_schools.loc[inner_join_master_list_with_schools['phone'].isnull()]\n",
    "# null_phone_df  = inner_join_master_list_with_schools[inner_join_master_list_with_schools['phone'].str.len() < 15]\n",
    "\n",
    "inner_join_master_list_with_schools.loc[inner_join_master_list_with_schools['phone'].isnull(), 'phone'] = inner_join_master_list_with_schools['default_phone']\n",
    "# null_phone_df  = inner_join_master_list_with_schools[inner_join_master_list_with_schools['phone'].str.contains(\"No Data\")]\n",
    "# null_phone_df\n",
    "# inner_join_master_list_with_schools.columns\n",
    "inner_join_master_list_with_schools_df_to_combine = inner_join_master_list_with_schools[['california_oid','phone','participating','rowid','school','district_y','address_y','status','latitude','longitude','email','website']]\n",
    "inner_join_master_list_with_schools_df_to_combine"
   ]
  },
  {
   "cell_type": "markdown",
   "metadata": {},
   "source": [
    "### 3.0 Subset the data with no California IDs\n"
   ]
  },
  {
   "cell_type": "code",
   "execution_count": null,
   "metadata": {},
   "outputs": [],
   "source": [
    "master_list_subset_no_oid = master_list_schools_df[master_list_schools_df['california_oid'].isnull()]\n",
    "name = master_list_subset_no_oid['school'].str.replace(\"[[:punct:]]\",\"-\",regex=True).replace({'\\([a-zA-Z\\s\\.\\-\\/]*\\(*[a-zA-Z\\s\\.\\-\\/]*\\)*[a-zA-Z\\s\\.\\-\\/]*\\)$'},'',regex=True)\n",
    "\n",
    "simple_district = master_list_subset_no_oid['district_y'].str.lower().str.replace(\" \",\"-\").str.replace(\".\",\"\").str.replace('\"','')\n",
    "simple_address = master_list_subset_no_oid['address_y'].str.lower().str.replace(\" \",\"-\").str.replace(\".\",\"\").str.replace('\"','')\n",
    "simple_name = name.str.lower().str.replace(\" \",\"-\").str.replace(\".\",\"\").str.replace('\"','').str.split().str.get(0)\n",
    "key = simple_address+\"-\"+simple_name\n",
    "clean_key = key.str.replace(\"---\",\"-\")\n",
    "master_list_subset_no_oid['tap_key'] = clean_key\n",
    "master_list_subset_no_oid['tap_key'].fillna('none',inplace=True)\n",
    "master_list_subset_no_oid"
   ]
  },
  {
   "cell_type": "markdown",
   "metadata": {},
   "source": [
    "### 3.1 Merge the data with no IDs using `rapid fuzzy` "
   ]
  },
  {
   "cell_type": "code",
   "execution_count": null,
   "metadata": {},
   "outputs": [],
   "source": [
    "\n",
    "def fuzzy_merge(baseFrame, compareFrame, baseKey, compareKey, threshold=86, limit=1, how='left'):\n",
    "    s_mapping = {x: fuzz_utils.default_process(x) for x in compareFrame[compareKey]}\n",
    "\n",
    "    m1 = baseFrame[baseKey].apply(lambda x: process.extract(\n",
    "      fuzz_utils.default_process(x), s_mapping, limit=limit, score_cutoff=threshold, processor=None\n",
    "    ))\n",
    "    baseFrame['Match'] = m1\n",
    "\n",
    "    m2 = baseFrame['Match'].apply(lambda x: ', '.join(i[2] for i in x))\n",
    "    baseFrame[baseKey] = m2.replace(\"\",np.nan)\n",
    "\n",
    "    return baseFrame.merge(compareFrame, left_on=baseKey, right_on=compareKey, how=how)\n",
    "\n",
    "merged_df = fuzzy_merge(master_list_subset_no_oid, la_schools_df, 'tap_key', 'simple_name',how='left')\n",
    "# merged_df = fuzzy_merge(la_schools_df, go_pass_schools 'name', 'simple_name',how='right')\n",
    "merged_df"
   ]
  },
  {
   "cell_type": "markdown",
   "metadata": {},
   "source": [
    "### 3.2 Clean up the results\n"
   ]
  },
  {
   "cell_type": "code",
   "execution_count": null,
   "metadata": {},
   "outputs": [],
   "source": [
    "# merged_df.columns\n",
    "# merged_df_to_combine = merged_df[['id','california_oid','phone','participating','rowid','school','district_y','address_y','latitude','longitude','email']]\n",
    "merged_df.loc[merged_df['phone'].isnull(), 'phone'] = merged_df['default_phone']\n",
    "merged_df_to_combine = merged_df[['phone','participating','rowid','school','district_y','address_y','Match','oid','status','latitude','longitude','email','website']]\n",
    "\n",
    "merged_df_to_combine.rename(columns = {'oid':'california_oid'}, inplace = True)\n",
    "merged_df_to_combine\n",
    "\n",
    "\n",
    "# merged_df_to_combine"
   ]
  },
  {
   "cell_type": "markdown",
   "metadata": {},
   "source": [
    "### 4.0 Combining final data frame"
   ]
  },
  {
   "cell_type": "code",
   "execution_count": null,
   "metadata": {},
   "outputs": [],
   "source": [
    "combined_df = pd.concat([inner_join_master_list_with_schools_df_to_combine, merged_df_to_combine], ignore_index=True)\n",
    "combined_df.reset_index(drop=True, inplace=True)\n",
    "combined_df.index.names = ['id']\n",
    "combined_df['california_oid'] = combined_df['california_oid'].astype(str).str.replace(\".0\",\"\")\n",
    "combined_df['rowid'] = combined_df['rowid'].astype(str).str.replace(\".0\",\"\")\n",
    "combined_df"
   ]
  },
  {
   "cell_type": "markdown",
   "metadata": {},
   "source": [
    "### 5.0 Writing JSON and CSV Outputs"
   ]
  },
  {
   "cell_type": "code",
   "execution_count": null,
   "metadata": {},
   "outputs": [],
   "source": [
    "output_file_name = \"../data/final_tap_data_post_processing_master_list.csv\"\n",
    "combined_df.to_csv(output_file_name)\n",
    "\n",
    "output_json = \"../src/data/schools.json\"\n",
    "json_file = combined_df.to_json(orient='records',index=True) \n",
    "with open(output_json, 'w') as f:\n",
    "    f.write(json_file)"
   ]
  }
 ],
 "metadata": {
  "kernelspec": {
   "display_name": "Python 3.9.5 ('metro')",
   "language": "python",
   "name": "python3"
  },
  "language_info": {
   "codemirror_mode": {
    "name": "ipython",
    "version": 3
   },
   "file_extension": ".py",
   "mimetype": "text/x-python",
   "name": "python",
   "nbconvert_exporter": "python",
   "pygments_lexer": "ipython3",
   "version": "3.9.5"
  },
  "orig_nbformat": 4,
  "vscode": {
   "interpreter": {
    "hash": "c263e3016fdbcc18f23c6f6a65675b5fd898a6e9c804caa5b7f1b343f9ad6c95"
   }
  }
 },
 "nbformat": 4,
 "nbformat_minor": 2
}
